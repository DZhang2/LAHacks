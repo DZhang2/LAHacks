{
 "cells": [
  {
   "cell_type": "code",
   "execution_count": 2,
   "metadata": {},
   "outputs": [],
   "source": [
    "import csv"
   ]
  },
  {
   "cell_type": "code",
   "execution_count": 4,
   "metadata": {},
   "outputs": [],
   "source": [
    "with open(\"PatientMatchingData.csv\") as infile:\n",
    "    reader = csv.reader(infile)\n",
    "    reader = list(reader)\n",
    "    data = reader[1:]"
   ]
  },
  {
   "cell_type": "code",
   "execution_count": 7,
   "metadata": {},
   "outputs": [],
   "source": [
    "def check(p1, p2):\n",
    "    pts = 0\n",
    "    lname1, lname2 = p1[5].lower().strip(), p2[5].lower().strip()\n",
    "    dob1, dob2 = p1[6], p2[6]\n",
    "    address1, address2 = p1[8].lower().strip(), p2[8].lower().strip()\n",
    "    zip1, zip2 = p1[12], p2[12]\n",
    "    if lname1 == lname2:\n",
    "        pts += 1\n",
    "    if dob1 == dob2:\n",
    "        pts += 1\n",
    "    if address1 == address2 or zip1 == zip2:\n",
    "        pts += 1\n",
    "    if pts >= 2:\n",
    "        return True\n",
    "    return False"
   ]
  },
  {
   "cell_type": "code",
   "execution_count": 12,
   "metadata": {},
   "outputs": [],
   "source": [
    "def accuracy():\n",
    "    correct = 0\n",
    "    wrong = 0\n",
    "    falseNeg = 0\n",
    "    falsePos = 0\n",
    "    for i in range(len(data)-1):\n",
    "        for j in range(i+1, len(data)):\n",
    "            p1 = data[i]\n",
    "            p2 = data[j]\n",
    "            actual = p1[0] == p2[0]\n",
    "            predicted = check(p1, p2)\n",
    "            if predicted == actual:\n",
    "                correct += 1\n",
    "            elif predicted == true:\n",
    "                falsePos += 1\n",
    "                wrong += 1\n",
    "            elif predicted == false:\n",
    "                falseNeg += 1\n",
    "                wrong += 1\n",
    "    return [correct/(correct + wrong), correct, wrong, falseNeg, falsePos]"
   ]
  },
  {
   "cell_type": "code",
   "execution_count": 13,
   "metadata": {},
   "outputs": [
    {
     "name": "stdout",
     "output_type": "stream",
     "text": [
      "<function accuracy at 0x10e513e18>\n"
     ]
    }
   ],
   "source": [
    "print(accuracy)"
   ]
  },
  {
   "cell_type": "code",
   "execution_count": null,
   "metadata": {},
   "outputs": [],
   "source": []
  }
 ],
 "metadata": {
  "kernelspec": {
   "display_name": "Python 3",
   "language": "python",
   "name": "python3"
  },
  "language_info": {
   "codemirror_mode": {
    "name": "ipython",
    "version": 3
   },
   "file_extension": ".py",
   "mimetype": "text/x-python",
   "name": "python",
   "nbconvert_exporter": "python",
   "pygments_lexer": "ipython3",
   "version": "3.7.3"
  }
 },
 "nbformat": 4,
 "nbformat_minor": 4
}
